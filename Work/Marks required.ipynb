{
 "cells": [
  {
   "cell_type": "code",
   "execution_count": 22,
   "id": "4812da95",
   "metadata": {},
   "outputs": [
    {
     "name": "stdout",
     "output_type": "stream",
     "text": [
      "0.26972602739725965\n"
     ]
    }
   ],
   "source": [
    "t = 0.7\n",
    "\n",
    "x = (t - (8/13)*0.795 - (5/13)*(0.97/8 + (3/8)*0.72 + 0.35*0.77/8))/((5/13)*((0.65/8)+3/8))\n",
    "print(x)"
   ]
  },
  {
   "cell_type": "code",
   "execution_count": 23,
   "id": "98498c66",
   "metadata": {},
   "outputs": [
    {
     "name": "stdout",
     "output_type": "stream",
     "text": [
      "0.5479999999999997\n"
     ]
    }
   ],
   "source": [
    "t = 0.7\n",
    "\n",
    "x = (t - (8/13)*0.795)/((5/13))\n",
    "print(x)"
   ]
  },
  {
   "cell_type": "code",
   "execution_count": 24,
   "id": "de7566e1",
   "metadata": {},
   "outputs": [
    {
     "name": "stdout",
     "output_type": "stream",
     "text": [
      "0.21438356164383499\n"
     ]
    }
   ],
   "source": [
    "t = 0.7\n",
    "\n",
    "x = (t - (8/13)*0.81 - (5/13)*(0.98/8 + (3/8)*0.72 + 0.35*0.77/8))/((5/13)*((0.65/8)+3/8))\n",
    "print(x)"
   ]
  },
  {
   "cell_type": "code",
   "execution_count": null,
   "id": "7a825a7a",
   "metadata": {},
   "outputs": [],
   "source": []
  }
 ],
 "metadata": {
  "kernelspec": {
   "display_name": "Python 3",
   "language": "python",
   "name": "python3"
  },
  "language_info": {
   "codemirror_mode": {
    "name": "ipython",
    "version": 3
   },
   "file_extension": ".py",
   "mimetype": "text/x-python",
   "name": "python",
   "nbconvert_exporter": "python",
   "pygments_lexer": "ipython3",
   "version": "3.8.8"
  }
 },
 "nbformat": 4,
 "nbformat_minor": 5
}
