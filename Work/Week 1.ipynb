{
 "cells": [
  {
   "cell_type": "code",
   "execution_count": 1,
   "id": "04cc44ab",
   "metadata": {},
   "outputs": [],
   "source": [
    "import numpy as np\n",
    "import scipy as sc\n",
    "import matplotlib.pyplot as plt\n",
    "%matplotlib inline"
   ]
  },
  {
   "cell_type": "code",
   "execution_count": 2,
   "id": "9f9c9466",
   "metadata": {},
   "outputs": [
    {
     "name": "stdout",
     "output_type": "stream",
     "text": [
      "[1 2 0] [-3.   1.5  1. ] \n",
      " [[1 0 0]\n",
      " [0 2 0]\n",
      " [1 0 1]]\n"
     ]
    }
   ],
   "source": [
    "a = np.array([1,2,0])\n",
    "b = np.array([-3, 1.5, 1])\n",
    "A = np.array([[1,0,0],[0,2,0],[1,0,1]])\n",
    "\n",
    "print(a,b,'\\n',A)"
   ]
  },
  {
   "cell_type": "code",
   "execution_count": 3,
   "id": "6558344c",
   "metadata": {},
   "outputs": [
    {
     "name": "stdout",
     "output_type": "stream",
     "text": [
      "[1 4 1]\n"
     ]
    }
   ],
   "source": [
    "print(A@a)"
   ]
  },
  {
   "cell_type": "code",
   "execution_count": 4,
   "id": "f87796c3",
   "metadata": {},
   "outputs": [
    {
     "data": {
      "text/plain": [
       "0.0"
      ]
     },
     "execution_count": 4,
     "metadata": {},
     "output_type": "execute_result"
    }
   ],
   "source": [
    "np.dot(a,b)"
   ]
  },
  {
   "cell_type": "code",
   "execution_count": 5,
   "id": "af08ca4d",
   "metadata": {},
   "outputs": [
    {
     "data": {
      "text/plain": [
       "array([ 2. , -1. ,  7.5])"
      ]
     },
     "execution_count": 5,
     "metadata": {},
     "output_type": "execute_result"
    }
   ],
   "source": [
    "np.cross(a,b)"
   ]
  },
  {
   "cell_type": "code",
   "execution_count": 6,
   "id": "e6069515",
   "metadata": {},
   "outputs": [
    {
     "name": "stdout",
     "output_type": "stream",
     "text": [
      "[ 1.  1. -1.]\n"
     ]
    }
   ],
   "source": [
    "print(np.linalg.inv(A) @ a)"
   ]
  },
  {
   "cell_type": "code",
   "execution_count": 7,
   "id": "054f739a",
   "metadata": {},
   "outputs": [
    {
     "name": "stdout",
     "output_type": "stream",
     "text": [
      "[1.17784842 0.7155801  0.92083312]\n",
      "[1.17784842 0.7155801  0.92083312]\n"
     ]
    }
   ],
   "source": [
    "def slow_matvec(matrix, vector):\n",
    "    assert matrix.shape[1] == vector.shape[0]\n",
    "    result = []\n",
    "    for r in range(matrix.shape[0]):\n",
    "        value = 0\n",
    "        for c in range(matrix.shape[1]):\n",
    "            value += matrix[r, c] * vector[c]\n",
    "        result.append(value)\n",
    "    return np.array(result)\n",
    "\n",
    "\n",
    "# Example of using this function\n",
    "matrix = np.random.rand(3, 3)\n",
    "vector = np.random.rand(3)\n",
    "print(slow_matvec(matrix, vector))\n",
    "print(matrix @ vector)"
   ]
  },
  {
   "cell_type": "code",
   "execution_count": null,
   "id": "00bfb67c",
   "metadata": {},
   "outputs": [],
   "source": []
  },
  {
   "cell_type": "code",
   "execution_count": 8,
   "id": "60b74a04",
   "metadata": {},
   "outputs": [
    {
     "name": "stdout",
     "output_type": "stream",
     "text": [
      "[0.91233012 0.64084424 0.79329963]\n",
      "[0.91233012 0.64084424 0.79329963]\n"
     ]
    }
   ],
   "source": [
    "def faster_matvec(matrix, vector):\n",
    "    assert matrix.shape[1] == vector.shape[0]\n",
    "    result = []\n",
    "    for r in range(matrix.shape[0]):\n",
    "        result.append(np.dot(matrix[r],vector))\n",
    "    return np.array(result)\n",
    "\n",
    "\n",
    "# Example of using this function\n",
    "matrix = np.random.rand(3, 3)\n",
    "vector = np.random.rand(3)\n",
    "print(faster_matvec(matrix, vector))\n",
    "print(matrix @ vector)"
   ]
  },
  {
   "cell_type": "markdown",
   "id": "6f1737b5",
   "metadata": {},
   "source": [
    "### Assert testing\n",
    "When creating a function can use 'assert' to check the validity of the new function by asserting that it completes a specific job this is often done by comparison to a pre-written function which is available as we are trying to create optimisations of pre-written functions. If the function is incorrect an assertion error will occur.\n",
    "\n",
    "Due to machine precision sometimes the '==' check  may fail so we may use np.isclose() instead, for vectors and matrices we can use np.allclose()."
   ]
  },
  {
   "cell_type": "code",
   "execution_count": 9,
   "id": "f8edfee5",
   "metadata": {},
   "outputs": [],
   "source": [
    "def add(a, b):\n",
    "    return a + b\n",
    "\n",
    "\n",
    "assert add(1, 1) == 2\n",
    "assert add(4, 5) == 9"
   ]
  },
  {
   "cell_type": "code",
   "execution_count": 10,
   "id": "80ab72d3",
   "metadata": {},
   "outputs": [],
   "source": [
    "def faster_matvec(matrix, vector):\n",
    "    assert matrix.shape[1] == vector.shape[0]\n",
    "    result = []\n",
    "    for r in range(matrix.shape[0]):\n",
    "        value = np.dot(matrix[r],vector)\n",
    "        result.append(value)\n",
    "    return np.array(result)\n",
    "\n",
    "\n",
    "# Example of using this function\n",
    "matrix = np.random.rand(3, 3)\n",
    "vector = np.random.rand(3)\n",
    "\n",
    "assert np.allclose(faster_matvec(matrix, vector), matrix@vector)"
   ]
  },
  {
   "cell_type": "markdown",
   "id": "6a3c6450",
   "metadata": {},
   "source": [
    "### Timing"
   ]
  },
  {
   "cell_type": "code",
   "execution_count": 14,
   "id": "7c1956d0",
   "metadata": {},
   "outputs": [
    {
     "name": "stdout",
     "output_type": "stream",
     "text": [
      " Fast: 0.012983077999706438  Fast string: 0.15696865300014906 \n",
      " Slow: 0.018701567999414692  Slow string: 9.816034865999427\n"
     ]
    }
   ],
   "source": [
    "from timeit import timeit\n",
    "\n",
    "n = 20\n",
    "\n",
    "def f(n):\n",
    "    num_its = 100\n",
    "    matrix = np.random.rand(n, n)\n",
    "    vector = np.random.rand(n)\n",
    "    \n",
    "    tf = timeit(lambda: faster_matvec(matrix, vector), number=num_its)\n",
    "    tf_string = timeit('faster_matvec(matrix, vector)', setup = 'from __main__ import faster_matvec, matrix, vector'\n",
    "                       ,number=num_its)\n",
    "    ts = timeit(lambda: slow_matvec(matrix, vector), number=num_its)\n",
    "    ts_string = timeit('slow_matvec(matrix, vector)', setup = 'from __main__ import slow_matvec, matrix, vector'\n",
    "                       ,number=num_its)\n",
    "    print(' Fast:', tf,' Fast string:', tf_string, '\\n', 'Slow:', ts,' Slow string:', ts_string)\n",
    "    \n",
    "f(n)\n",
    "\n",
    "#observation: slow matvec is fast for 2x2 matrices"
   ]
  },
  {
   "cell_type": "markdown",
   "id": "16ae015a",
   "metadata": {},
   "source": [
    "### Plotting"
   ]
  },
  {
   "cell_type": "code",
   "execution_count": 12,
   "id": "af90ac5a",
   "metadata": {},
   "outputs": [
    {
     "ename": "KeyboardInterrupt",
     "evalue": "",
     "output_type": "error",
     "traceback": [
      "\u001b[0;31m---------------------------------------------------------------------------\u001b[0m",
      "\u001b[0;31mKeyboardInterrupt\u001b[0m                         Traceback (most recent call last)",
      "\u001b[0;32m<ipython-input-12-beb575199269>\u001b[0m in \u001b[0;36m<module>\u001b[0;34m\u001b[0m\n\u001b[1;32m     10\u001b[0m     tf_string = timeit('faster_matvec(matrix, vector)', setup = 'from __main__ import faster_matvec, matrix, vector'\n\u001b[1;32m     11\u001b[0m                        ,number=num_its)\n\u001b[0;32m---> 12\u001b[0;31m     \u001b[0mts\u001b[0m \u001b[0;34m=\u001b[0m \u001b[0mtimeit\u001b[0m\u001b[0;34m(\u001b[0m\u001b[0;32mlambda\u001b[0m\u001b[0;34m:\u001b[0m \u001b[0mslow_matvec\u001b[0m\u001b[0;34m(\u001b[0m\u001b[0mmatrix\u001b[0m\u001b[0;34m,\u001b[0m \u001b[0mvector\u001b[0m\u001b[0;34m)\u001b[0m\u001b[0;34m,\u001b[0m \u001b[0mnumber\u001b[0m\u001b[0;34m=\u001b[0m\u001b[0mnum_its\u001b[0m\u001b[0;34m)\u001b[0m\u001b[0;34m\u001b[0m\u001b[0;34m\u001b[0m\u001b[0m\n\u001b[0m\u001b[1;32m     13\u001b[0m     ts_string = timeit('slow_matvec(matrix, vector)', setup = 'from __main__ import slow_matvec, matrix, vector'\n\u001b[1;32m     14\u001b[0m                        ,number=num_its)\n",
      "\u001b[0;32m~/opt/anaconda3/lib/python3.8/timeit.py\u001b[0m in \u001b[0;36mtimeit\u001b[0;34m(stmt, setup, timer, number, globals)\u001b[0m\n\u001b[1;32m    231\u001b[0m            number=default_number, globals=None):\n\u001b[1;32m    232\u001b[0m     \u001b[0;34m\"\"\"Convenience function to create Timer object and call timeit method.\"\"\"\u001b[0m\u001b[0;34m\u001b[0m\u001b[0;34m\u001b[0m\u001b[0m\n\u001b[0;32m--> 233\u001b[0;31m     \u001b[0;32mreturn\u001b[0m \u001b[0mTimer\u001b[0m\u001b[0;34m(\u001b[0m\u001b[0mstmt\u001b[0m\u001b[0;34m,\u001b[0m \u001b[0msetup\u001b[0m\u001b[0;34m,\u001b[0m \u001b[0mtimer\u001b[0m\u001b[0;34m,\u001b[0m \u001b[0mglobals\u001b[0m\u001b[0;34m)\u001b[0m\u001b[0;34m.\u001b[0m\u001b[0mtimeit\u001b[0m\u001b[0;34m(\u001b[0m\u001b[0mnumber\u001b[0m\u001b[0;34m)\u001b[0m\u001b[0;34m\u001b[0m\u001b[0;34m\u001b[0m\u001b[0m\n\u001b[0m\u001b[1;32m    234\u001b[0m \u001b[0;34m\u001b[0m\u001b[0m\n\u001b[1;32m    235\u001b[0m def repeat(stmt=\"pass\", setup=\"pass\", timer=default_timer,\n",
      "\u001b[0;32m~/opt/anaconda3/lib/python3.8/timeit.py\u001b[0m in \u001b[0;36mtimeit\u001b[0;34m(self, number)\u001b[0m\n\u001b[1;32m    175\u001b[0m         \u001b[0mgc\u001b[0m\u001b[0;34m.\u001b[0m\u001b[0mdisable\u001b[0m\u001b[0;34m(\u001b[0m\u001b[0;34m)\u001b[0m\u001b[0;34m\u001b[0m\u001b[0;34m\u001b[0m\u001b[0m\n\u001b[1;32m    176\u001b[0m         \u001b[0;32mtry\u001b[0m\u001b[0;34m:\u001b[0m\u001b[0;34m\u001b[0m\u001b[0;34m\u001b[0m\u001b[0m\n\u001b[0;32m--> 177\u001b[0;31m             \u001b[0mtiming\u001b[0m \u001b[0;34m=\u001b[0m \u001b[0mself\u001b[0m\u001b[0;34m.\u001b[0m\u001b[0minner\u001b[0m\u001b[0;34m(\u001b[0m\u001b[0mit\u001b[0m\u001b[0;34m,\u001b[0m \u001b[0mself\u001b[0m\u001b[0;34m.\u001b[0m\u001b[0mtimer\u001b[0m\u001b[0;34m)\u001b[0m\u001b[0;34m\u001b[0m\u001b[0;34m\u001b[0m\u001b[0m\n\u001b[0m\u001b[1;32m    178\u001b[0m         \u001b[0;32mfinally\u001b[0m\u001b[0;34m:\u001b[0m\u001b[0;34m\u001b[0m\u001b[0;34m\u001b[0m\u001b[0m\n\u001b[1;32m    179\u001b[0m             \u001b[0;32mif\u001b[0m \u001b[0mgcold\u001b[0m\u001b[0;34m:\u001b[0m\u001b[0;34m\u001b[0m\u001b[0;34m\u001b[0m\u001b[0m\n",
      "\u001b[0;32m~/opt/anaconda3/lib/python3.8/timeit.py\u001b[0m in \u001b[0;36minner\u001b[0;34m(_it, _timer, _stmt)\u001b[0m\n",
      "\u001b[0;32m<ipython-input-12-beb575199269>\u001b[0m in \u001b[0;36m<lambda>\u001b[0;34m()\u001b[0m\n\u001b[1;32m     10\u001b[0m     tf_string = timeit('faster_matvec(matrix, vector)', setup = 'from __main__ import faster_matvec, matrix, vector'\n\u001b[1;32m     11\u001b[0m                        ,number=num_its)\n\u001b[0;32m---> 12\u001b[0;31m     \u001b[0mts\u001b[0m \u001b[0;34m=\u001b[0m \u001b[0mtimeit\u001b[0m\u001b[0;34m(\u001b[0m\u001b[0;32mlambda\u001b[0m\u001b[0;34m:\u001b[0m \u001b[0mslow_matvec\u001b[0m\u001b[0;34m(\u001b[0m\u001b[0mmatrix\u001b[0m\u001b[0;34m,\u001b[0m \u001b[0mvector\u001b[0m\u001b[0;34m)\u001b[0m\u001b[0;34m,\u001b[0m \u001b[0mnumber\u001b[0m\u001b[0;34m=\u001b[0m\u001b[0mnum_its\u001b[0m\u001b[0;34m)\u001b[0m\u001b[0;34m\u001b[0m\u001b[0;34m\u001b[0m\u001b[0m\n\u001b[0m\u001b[1;32m     13\u001b[0m     ts_string = timeit('slow_matvec(matrix, vector)', setup = 'from __main__ import slow_matvec, matrix, vector'\n\u001b[1;32m     14\u001b[0m                        ,number=num_its)\n",
      "\u001b[0;32m<ipython-input-7-c4ef70a62e0d>\u001b[0m in \u001b[0;36mslow_matvec\u001b[0;34m(matrix, vector)\u001b[0m\n\u001b[1;32m      5\u001b[0m         \u001b[0mvalue\u001b[0m \u001b[0;34m=\u001b[0m \u001b[0;36m0\u001b[0m\u001b[0;34m\u001b[0m\u001b[0;34m\u001b[0m\u001b[0m\n\u001b[1;32m      6\u001b[0m         \u001b[0;32mfor\u001b[0m \u001b[0mc\u001b[0m \u001b[0;32min\u001b[0m \u001b[0mrange\u001b[0m\u001b[0;34m(\u001b[0m\u001b[0mmatrix\u001b[0m\u001b[0;34m.\u001b[0m\u001b[0mshape\u001b[0m\u001b[0;34m[\u001b[0m\u001b[0;36m1\u001b[0m\u001b[0;34m]\u001b[0m\u001b[0;34m)\u001b[0m\u001b[0;34m:\u001b[0m\u001b[0;34m\u001b[0m\u001b[0;34m\u001b[0m\u001b[0m\n\u001b[0;32m----> 7\u001b[0;31m             \u001b[0mvalue\u001b[0m \u001b[0;34m+=\u001b[0m \u001b[0mmatrix\u001b[0m\u001b[0;34m[\u001b[0m\u001b[0mr\u001b[0m\u001b[0;34m,\u001b[0m \u001b[0mc\u001b[0m\u001b[0;34m]\u001b[0m \u001b[0;34m*\u001b[0m \u001b[0mvector\u001b[0m\u001b[0;34m[\u001b[0m\u001b[0mc\u001b[0m\u001b[0;34m]\u001b[0m\u001b[0;34m\u001b[0m\u001b[0;34m\u001b[0m\u001b[0m\n\u001b[0m\u001b[1;32m      8\u001b[0m         \u001b[0mresult\u001b[0m\u001b[0;34m.\u001b[0m\u001b[0mappend\u001b[0m\u001b[0;34m(\u001b[0m\u001b[0mvalue\u001b[0m\u001b[0;34m)\u001b[0m\u001b[0;34m\u001b[0m\u001b[0;34m\u001b[0m\u001b[0m\n\u001b[1;32m      9\u001b[0m     \u001b[0;32mreturn\u001b[0m \u001b[0mnp\u001b[0m\u001b[0;34m.\u001b[0m\u001b[0marray\u001b[0m\u001b[0;34m(\u001b[0m\u001b[0mresult\u001b[0m\u001b[0;34m)\u001b[0m\u001b[0;34m\u001b[0m\u001b[0;34m\u001b[0m\u001b[0m\n",
      "\u001b[0;31mKeyboardInterrupt\u001b[0m: "
     ]
    }
   ],
   "source": [
    "n = [2,5,10,20,50,100,500]\n",
    "y0 = np.zeros((len(n), 4))\n",
    "num_its = 100\n",
    "\n",
    "for i in range(len(n)):\n",
    "    matrix = np.random.rand(n[i], n[i])\n",
    "    vector = np.random.rand(n[i])\n",
    "    \n",
    "    tf = timeit(lambda: faster_matvec(matrix, vector), number=num_its)\n",
    "    tf_string = timeit('faster_matvec(matrix, vector)', setup = 'from __main__ import faster_matvec, matrix, vector'\n",
    "                       ,number=num_its)\n",
    "    ts = timeit(lambda: slow_matvec(matrix, vector), number=num_its)\n",
    "    ts_string = timeit('slow_matvec(matrix, vector)', setup = 'from __main__ import slow_matvec, matrix, vector'\n",
    "                       ,number=num_its)\n",
    "    \n",
    "    y0[i] = np.array([tf, tf_string, ts, ts_string])"
   ]
  },
  {
   "cell_type": "code",
   "execution_count": null,
   "id": "ffbfdfa8",
   "metadata": {},
   "outputs": [],
   "source": [
    "print(y0[:,0])\n",
    "\n",
    "plt.figure(figsize=(14,7))\n",
    "plt.plot(n, y0[:,0], label ='Fast')\n",
    "plt.plot(n, y0[:,1], label ='Fast string')\n",
    "plt.plot(n, y0[:,2], label ='Slow')\n",
    "plt.plot(n, y0[:,3], label ='Slow string')\n",
    "\n",
    "plt.xlabel(\"Matrix size\")\n",
    "plt.ylabel(\"Time\")\n",
    "plt.legend()\n",
    "plt.xscale('log')\n",
    "plt.yscale('log')\n",
    "\n",
    "#plt.axis('equal')"
   ]
  },
  {
   "cell_type": "code",
   "execution_count": null,
   "id": "9aae808c",
   "metadata": {},
   "outputs": [],
   "source": []
  }
 ],
 "metadata": {
  "kernelspec": {
   "display_name": "Python 3",
   "language": "python",
   "name": "python3"
  },
  "language_info": {
   "codemirror_mode": {
    "name": "ipython",
    "version": 3
   },
   "file_extension": ".py",
   "mimetype": "text/x-python",
   "name": "python",
   "nbconvert_exporter": "python",
   "pygments_lexer": "ipython3",
   "version": "3.8.8"
  }
 },
 "nbformat": 4,
 "nbformat_minor": 5
}
