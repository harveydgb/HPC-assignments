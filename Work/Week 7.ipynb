{
 "cells": [
  {
   "cell_type": "markdown",
   "id": "c8c8826e",
   "metadata": {},
   "source": [
    "# Week 7 - In Class"
   ]
  },
  {
   "cell_type": "code",
   "execution_count": 201,
   "id": "7a4fbba2",
   "metadata": {},
   "outputs": [],
   "source": [
    "import numpy as np\n",
    "from scipy.sparse.linalg import cg\n",
    "import scipy.sparse as sp\n",
    "from scipy.sparse import diags\n",
    "import matplotlib.pyplot as plt\n",
    "from scipy.sparse import identity\n",
    "from scipy.sparse.linalg import onenormest\n",
    "import time as time\n",
    "from scipy.linalg import lu\n",
    "import scipy\n",
    "from timeit import timeit "
   ]
  },
  {
   "cell_type": "markdown",
   "id": "2bdfdb0f",
   "metadata": {},
   "source": [
    "## Creating matrix"
   ]
  },
  {
   "cell_type": "code",
   "execution_count": 27,
   "id": "28907719",
   "metadata": {},
   "outputs": [],
   "source": [
    "def tridiag(n):\n",
    "    \"\"\"Takes in an integer and outputs a tridiagonal matrix strored in CSR format.\"\"\"\n",
    "    diags = [np.ones(n-1),np.random.rand(n)*5+5,np.ones(n-1)]\n",
    "    offset = [-1,0,1]\n",
    "    return sp.diags(diags,offset).tocoo()"
   ]
  },
  {
   "cell_type": "code",
   "execution_count": 45,
   "id": "4d834461",
   "metadata": {},
   "outputs": [
    {
     "name": "stdout",
     "output_type": "stream",
     "text": [
      "0\n",
      "1\n",
      "2\n",
      "3\n",
      "4\n"
     ]
    }
   ],
   "source": [
    "for i in range(5):\n",
    "    print(i)"
   ]
  },
  {
   "cell_type": "code",
   "execution_count": 163,
   "id": "28829f6f",
   "metadata": {},
   "outputs": [
    {
     "name": "stdout",
     "output_type": "stream",
     "text": [
      "[[8.79555944 1.         0.         0.         0.         0.        ]\n",
      " [1.         5.54911274 1.         0.         0.         0.        ]\n",
      " [0.         1.         7.12600391 1.         0.         0.        ]\n",
      " [0.         0.         1.         9.36158567 1.         0.        ]\n",
      " [0.         0.         0.         1.         9.04329058 1.        ]\n",
      " [0.         0.         0.         0.         1.         5.43723023]]\n"
     ]
    }
   ],
   "source": [
    "#inputs\n",
    "A = tridiag(6)\n",
    "print(A.todense())"
   ]
  },
  {
   "cell_type": "code",
   "execution_count": 194,
   "id": "bbb88efd",
   "metadata": {},
   "outputs": [
    {
     "name": "stdout",
     "output_type": "stream",
     "text": [
      "[8.79555944 1.         1.         5.54911274 1.         1.\n",
      " 7.12600391 1.         1.         9.36158567 1.         1.\n",
      " 9.04329058 1.         1.         5.43723023]\n",
      "0\n",
      "Data: 5.54911273764345\n",
      "U_data: 0.11369373452904225\n",
      "1\n",
      "Data: 7.126003911253617\n",
      "U_data: 0.183978456753199\n",
      "2\n",
      "Data: 9.361585674218723\n",
      "U_data: 0.14405017765408998\n",
      "3\n",
      "Data: 9.043290579190533\n",
      "U_data: 0.10848886889263394\n",
      "\n",
      "Correct:\n",
      " [[8.79555944 0.         0.         0.         0.         0.        ]\n",
      " [1.         5.435419   0.         0.         0.         0.        ]\n",
      " [0.         1.         6.94202545 0.         0.         0.        ]\n",
      " [0.         0.         1.         9.2175355  0.         0.        ]\n",
      " [0.         0.         0.         1.         8.93480171 0.        ]\n",
      " [0.         0.         0.         0.         1.         5.32530833]]\n",
      "\n",
      "Mine:\n",
      " [[8.79555944 0.         0.         0.         0.         0.        ]\n",
      " [1.         5.435419   0.         0.         0.         0.        ]\n",
      " [0.         1.         6.94202545 0.         0.         0.        ]\n",
      " [0.         0.         1.         9.2175355  0.         0.        ]\n",
      " [0.         0.         0.         1.         8.93480171 0.        ]\n",
      " [0.         0.         0.         0.         1.         5.32530833]]\n"
     ]
    }
   ],
   "source": [
    "arr = np.empty((3,A.row.shape[0]))\n",
    "arr[0,:] = A.row\n",
    "arr[1,:] = A.col\n",
    "arr[2,:] = A.data\n",
    "i = np.argsort(arr[1,:])\n",
    "arr = arr[:,i] #sort by columns in increasing size\n",
    "j = np.argsort(arr[0,:])\n",
    "arr = arr[:,j] #sort by rows\n",
    "row = arr[0,:].astype('int64')\n",
    "col = arr[1,:].astype('int64')\n",
    "data = arr[2,:]\n",
    "\n",
    "u_row = [0,0]\n",
    "u_col = [0,1]\n",
    "u_data = [1,1/data[0]]\n",
    "l_row = [0]\n",
    "l_col = [0]\n",
    "l_data = [data[0]]\n",
    "print(data)\n",
    " \n",
    "for i in range(A.shape[0]-2):\n",
    "    \n",
    "    #lower matrix\n",
    "    l_row.extend([i+1,i+1])\n",
    "    l_col.extend([i,i+1])\n",
    "    l_data.extend([1,data[3*(i+1)]-(1/l_data[2*i])])\n",
    "    \n",
    "    u_row.extend([i+1,i+1])\n",
    "    u_col.extend([i+1,i+2])\n",
    "    print(i)\n",
    "    print('Data:',data[3*(i+1)])\n",
    "    print('U_data:',u_data[(2*i)+1])\n",
    "    u_data.extend([1,1/(data[3*(i+1)]-u_data[(2*i)+1])])\n",
    "    \n",
    "l_row.extend([A.shape[0]-1,A.shape[0]-1])\n",
    "l_col.extend([A.shape[0]-2,A.shape[0]-1])\n",
    "l_data.extend([1,data[-1]-(1/l_data[2*A.shape[0]-4])])\n",
    "u_row.extend([A.shape[0]-1])\n",
    "u_col.extend([A.shape[0]-1])\n",
    "u_data.extend([1])\n",
    "\n",
    "\n",
    "lower = sp.coo_matrix((l_data, (l_row, l_col)), shape=A.shape)\n",
    "upper = sp.coo_matrix((u_data, (u_row, u_col)), shape=A.shape)\n",
    "\n",
    "p, l, u = scipy.linalg.lu(A.todense())\n",
    "\n",
    "print('\\nCorrect:\\n',u.transpose())\n",
    "print('\\nMine:\\n',lower.todense())\n",
    "\n",
    "#outputs (in CSR format)\n",
    "#upper_matrix\n",
    "#lower_matrix"
   ]
  },
  {
   "cell_type": "code",
   "execution_count": 195,
   "id": "fc15fa8c",
   "metadata": {},
   "outputs": [],
   "source": [
    "def tridiag_ul(A):\n",
    "    \"\"\"Takes in tridiagonal matrix and decomposes it into upper and lower forms.\"\"\"\n",
    "    \n",
    "    arr = np.empty((3,A.row.shape[0]))\n",
    "    arr[0,:] = A.row\n",
    "    arr[1,:] = A.col\n",
    "    arr[2,:] = A.data\n",
    "    i = np.argsort(arr[1,:])\n",
    "    arr = arr[:,i] #sort by columns in increasing size\n",
    "    j = np.argsort(arr[0,:])\n",
    "    arr = arr[:,j] #sort by rows\n",
    "    row = arr[0,:].astype('int64')\n",
    "    col = arr[1,:].astype('int64')\n",
    "    data = arr[2,:]\n",
    "\n",
    "    u_row = [0,0]\n",
    "    u_col = [0,1]\n",
    "    u_data = [1,1/data[0]]\n",
    "    l_row = [0]\n",
    "    l_col = [0]\n",
    "    l_data = [data[0]]\n",
    "\n",
    "    for i in range(A.shape[0]-2):\n",
    "\n",
    "        #lower matrix\n",
    "        l_row.extend([i+1,i+1])\n",
    "        l_col.extend([i,i+1])\n",
    "        l_data.extend([1,data[3*(i+1)]-(1/l_data[2*i])])\n",
    "\n",
    "        u_row.extend([i+1,i+1])\n",
    "        u_col.extend([i+1,i+2])\n",
    "        u_data.extend([1,1/(data[3*(i+1)]-u_data[(2*i)+1])])\n",
    "\n",
    "    l_row.extend([A.shape[0]-1,A.shape[0]-1])\n",
    "    l_col.extend([A.shape[0]-2,A.shape[0]-1])\n",
    "    l_data.extend([1,data[-1]-(1/l_data[2*A.shape[0]-4])])\n",
    "    u_row.extend([A.shape[0]-1])\n",
    "    u_col.extend([A.shape[0]-1])\n",
    "    u_data.extend([1])\n",
    "\n",
    "\n",
    "    lower = sp.coo_matrix((l_data, (l_row, l_col)), shape=A.shape)\n",
    "    upper = sp.coo_matrix((u_data, (u_row, u_col)), shape=A.shape)\n",
    "    \n",
    "    return lower, upper\n",
    "\n",
    "def lu(A):\n",
    "    n = A.shape[0]\n",
    "    assert A.shape[1] == n\n",
    "    L = np.zeros((n, n))\n",
    "    for row in range(n):\n",
    "        L[row,row] = A[row,row]\n",
    "        A[row,:] /= A[row,row]\n",
    "\n",
    "    for i in range(row+1, n):\n",
    "        L[i, row] = A[i, row]\n",
    "        A[i, :] -= A[i, row] * A[row, :]\n",
    "    return L, A"
   ]
  },
  {
   "cell_type": "code",
   "execution_count": 196,
   "id": "9b649c73",
   "metadata": {},
   "outputs": [],
   "source": [
    "lA, uA = tridiag_ul(A)\n",
    "slow_lA, slow_uA = lu(A.todense()) \n",
    "\n",
    "p, l, u = scipy.linalg.lu(A.todense())"
   ]
  },
  {
   "cell_type": "code",
   "execution_count": 197,
   "id": "274c12b7",
   "metadata": {},
   "outputs": [
    {
     "name": "stdout",
     "output_type": "stream",
     "text": [
      "[[8.79555944 0.         0.         0.         0.         0.        ]\n",
      " [1.         5.435419   0.         0.         0.         0.        ]\n",
      " [0.         1.         6.94202545 0.         0.         0.        ]\n",
      " [0.         0.         1.         9.2175355  0.         0.        ]\n",
      " [0.         0.         0.         1.         8.93480171 0.        ]\n",
      " [0.         0.         0.         0.         1.         5.32530833]]\n",
      "\n",
      "[[8.79555944 0.         0.         0.         0.         0.        ]\n",
      " [0.         5.54911274 0.         0.         0.         0.        ]\n",
      " [0.         0.         7.12600391 0.         0.         0.        ]\n",
      " [0.         0.         0.         9.36158567 0.         0.        ]\n",
      " [0.         0.         0.         0.         9.04329058 0.        ]\n",
      " [0.         0.         0.         0.         0.         5.43723023]]\n",
      "\n",
      "[[8.79555944 1.         0.         0.         0.         0.        ]\n",
      " [0.         5.435419   1.         0.         0.         0.        ]\n",
      " [0.         0.         6.94202545 1.         0.         0.        ]\n",
      " [0.         0.         0.         9.2175355  1.         0.        ]\n",
      " [0.         0.         0.         0.         8.93480171 1.        ]\n",
      " [0.         0.         0.         0.         0.         5.32530833]]\n"
     ]
    }
   ],
   "source": [
    "print(lA.todense())\n",
    "print()\n",
    "print(slow_lA)\n",
    "print()\n",
    "print(u)"
   ]
  },
  {
   "cell_type": "code",
   "execution_count": 217,
   "id": "021309c0",
   "metadata": {},
   "outputs": [],
   "source": [
    "number = 10\n",
    "n = np.logspace(1,4,number, dtype='int64')\n",
    "store = np.zeros((number,2))\n",
    "num_repeats=5\n",
    "\n",
    "for i, num in enumerate(n):\n",
    "    A = tridiag(num)\n",
    "    A_dense = A.todense()\n",
    "    store[i,0] = timeit(lambda: tridiag_ul(A),number = num_repeats)\n",
    "    store[i,1] = timeit(lambda: lu(A.todense()) ,number = num_repeats)"
   ]
  },
  {
   "cell_type": "code",
   "execution_count": 218,
   "id": "a612943f",
   "metadata": {},
   "outputs": [
    {
     "data": {
      "text/plain": [
       "Text(0, 0.5, 'Time (seconds)')"
      ]
     },
     "execution_count": 218,
     "metadata": {},
     "output_type": "execute_result"
    },
    {
     "data": {
      "image/png": "[encoded data removed]",
      "text/plain": [
       "<Figure size 1500x1000 with 1 Axes>"
      ]
     },
     "metadata": {
      "needs_background": "light"
     },
     "output_type": "display_data"
    }
   ],
   "source": [
    "plt.figure(dpi=250)\n",
    "plt.plot(n,store[:,0],label='CSR')\n",
    "plt.plot(n,store[:,1],label='Dense')\n",
    "plt.legend()\n",
    "plt.xlabel('Matrix size (N)')\n",
    "plt.ylabel('Time (seconds)')"
   ]
  },
  {
   "cell_type": "code",
   "execution_count": null,
   "id": "82c41e84",
   "metadata": {},
   "outputs": [],
   "source": [
    "@jit\n",
    "def helmholtz_if_loop(N):\n",
    "    \"\"\"IF loop for helmholtz mat function, separated for Numba speed up.\"\"\"\n",
    "    \n",
    "    #creating arrays and intialising variables\n",
    "    k = 5\n",
    "    h = 1/N\n",
    "    A_row = []\n",
    "    A_col = []\n",
    "    A_data = []\n",
    "    A_shape = ((N-1)*(N-1),(N-1)*(N-1))\n",
    "    b = np.zeros((N-1)*(N-1))\n",
    "    coeff1 = (12 + h*h*k*k)/36\n",
    "    coeff2 = (3 + h*h*k*k)/9\n",
    "\n",
    "    #creating A matrix\n",
    "    for i in prange((N-1)*(N-1)):\n",
    "        for j in prange((N-1)*(N-1)):\n",
    "            #same\n",
    "            if i == j:\n",
    "                A_row.append(i)\n",
    "                A_col.append(j)\n",
    "                A_data.append((24 - 4*h*h*k*k)/9)\n",
    "            #horizontal adj\n",
    "            elif (((i==(j+1)) or (i==(j-1))) & (int(i/(N-1)) == int(j/(N-1)))):\n",
    "                A_row.append(i)\n",
    "                A_col.append(j)\n",
    "                A_data.append((-3 - h*h*k*k)/9)\n",
    "            #vertical adj\n",
    "            elif (((i==(j+(N-1))) or (i==(j-(N-1)))) & (int(i/(N-1)) != int(j/(N-1)))):\n",
    "                A_row.append(i)\n",
    "                A_col.append(j)\n",
    "                A_data.append((-3 - h*h*k*k)/9) \n",
    "            #diagonal adj\n",
    "            elif (((i==(j+N)) or (i==(j+N-2)) or (i==(j-N)) or (i==(j-N+2))) & \n",
    "                  ((int(i/(N-1)) == (int(j/(N-1))+1)) or (int(i/(N-1)) == (int(j/(N-1))-1)))):\n",
    "                A_row.append(i)\n",
    "                A_col.append(j)\n",
    "                A_data.append((-12 - h*h*k*k)/36)\n",
    "            else:\n",
    "                pass\n",
    "\n",
    "    #creating b vector\n",
    "    for j in prange((N-1)*(N-1)):\n",
    "        #bottom left\n",
    "        if j == 0:  \n",
    "            b[j] = coeff1*(g(0,0)+g(2*h,0)+g(0,2*h)) + coeff2*(g(h,0) + g(0,h))\n",
    "        #bottom right\n",
    "        elif j == (N-2):\n",
    "            b[j] = coeff1*(g(1,0)+g(1,2*h)+g(1-2*h,0)) + coeff2*(g(1-h,0) + g(1,h))\n",
    "        #top left\n",
    "        elif j == (N*N - 3*N + 2):\n",
    "            b[j] = coeff1*(g(0,1)+g(2*h,1)+g(0,1-2*h)) + coeff2*(g(h,1) + g(0,1-h))\n",
    "        #top right\n",
    "        elif j == (N*N - 2*N):\n",
    "            b[j] = coeff1*(g(1,1)+g(1-2*h,1)+g(1,1-2*h)) + coeff2*(g(1-h,1) + g(1,1-h))\n",
    "        #first column:\n",
    "        elif (j%(N-1)) == 0:\n",
    "            cj = (j/(N-1)+1)*h\n",
    "            b[j] = coeff1*(g(0,cj+h)+g(0,cj-h)) + coeff2*g(0,cj)\n",
    "        #last column:\n",
    "        elif ((j+1)%(N-1)) == 0:\n",
    "            cj = ( ((j+1)/(N-1)))*h\n",
    "            b[j] = coeff1*(g(1,cj+h)+g(1,cj-h)) + coeff2*g(1,cj)\n",
    "        #bottom row:\n",
    "        elif j < (N-1):\n",
    "            cj = (j+1)*h\n",
    "            b[j] = coeff1*(g(cj+h,0)+g(cj-h,0)) + coeff2*g(cj,0)\n",
    "        #top row:\n",
    "        elif j > (N*N - 3*N + 1):\n",
    "            cj = (j - N*N + 3*N -1)*h\n",
    "            b[j] = coeff1*(g(cj+h,1)+g(cj-h,1)) + coeff2*g(cj,1)\n",
    "        #other\n",
    "        else:\n",
    "            b[j] = 0\n",
    "            \n",
    "    return A_data, A_row, A_col, A_shape, b\n",
    "\n",
    "\n",
    "def helmholtz_mat(N):\n",
    "    \"\"\"Creates a matrix A and vector b creating a vector matrix problem to approximately solve the Hemholtz \n",
    "    equation and converts it into a scipy COO format. \n",
    "    Returns\n",
    "    A: (N-1)^2 * (N-1)^2 matrix in COO format\n",
    "    b: (N-1)^2 vector\"\"\"\n",
    "    \n",
    "    A_data, A_row, A_col, A_shape, b = helmholtz_if_loop(N)\n",
    "    \n",
    "    #store in COO format\n",
    "    A = sp.coo_matrix((A_data,(A_row,A_col)), shape = A_shape)\n",
    "    \n",
    "    return A, b"
   ]
  }
 ],
 "metadata": {
  "kernelspec": {
   "display_name": "Python 3 (ipykernel)",
   "language": "python",
   "name": "python3"
  },
  "language_info": {
   "codemirror_mode": {
    "name": "ipython",
    "version": 3
   },
   "file_extension": ".py",
   "mimetype": "text/x-python",
   "name": "python",
   "nbconvert_exporter": "python",
   "pygments_lexer": "ipython3",
   "version": "3.8.12"
  }
 },
 "nbformat": 4,
 "nbformat_minor": 5
}
